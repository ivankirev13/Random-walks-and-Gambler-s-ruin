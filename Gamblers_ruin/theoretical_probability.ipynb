{
 "cells": [
  {
   "cell_type": "markdown",
   "source": [
    "# Gambler's ruin problem \r\n",
    "\r\n",
    "## Comparing simulation results with theoretical probability"
   ],
   "metadata": {}
  },
  {
   "cell_type": "code",
   "execution_count": 1,
   "source": [
    "import numpy as np"
   ],
   "outputs": [],
   "metadata": {}
  },
  {
   "cell_type": "code",
   "execution_count": 2,
   "source": [
    "def gamblers_ruin_outcome(probability,\r\n",
    "                          win_prize=1,\r\n",
    "                          loss=1,\r\n",
    "                          initial_money=15,\r\n",
    "                          fortune=30,\r\n",
    "                          ruin=0):\r\n",
    "    \"\"\"Return 1 if the gambler succeeds and -1 if he is ruined.\"\"\"\r\n",
    "    # record the amount of money during each game in a list\r\n",
    "    money = [initial_money]\r\n",
    "    while money[-1] < fortune and money[-1] > ruin:\r\n",
    "        if np.random.random() <= probability:\r\n",
    "            money.append(money[-1] + win_prize)\r\n",
    "        else:\r\n",
    "            money.append(money[-1] - loss)\r\n",
    "    if money[-1] >= fortune:\r\n",
    "        return 1\r\n",
    "    elif money[-1] <= ruin:\r\n",
    "        return -1"
   ],
   "outputs": [],
   "metadata": {}
  },
  {
   "cell_type": "code",
   "execution_count": 3,
   "source": [
    "p = 0.55\r\n",
    "number_of_successes = 0\r\n",
    "number_of_ruins = 0\r\n",
    "for i in range(1000):\r\n",
    "    outcome = gamblers_ruin_outcome(p)\r\n",
    "    if outcome == 1:\r\n",
    "        number_of_successes += 1\r\n",
    "    elif outcome == -1:\r\n",
    "        number_of_ruins += 1\r\n",
    "print(number_of_successes)\r\n",
    "print(number_of_ruins)"
   ],
   "outputs": [
    {
     "output_type": "stream",
     "name": "stdout",
     "text": [
      "952\n",
      "48\n"
     ]
    }
   ],
   "metadata": {}
  },
  {
   "cell_type": "code",
   "execution_count": null,
   "source": [],
   "outputs": [],
   "metadata": {}
  }
 ],
 "metadata": {
  "orig_nbformat": 4,
  "language_info": {
   "name": "python",
   "version": "3.9.5",
   "mimetype": "text/x-python",
   "codemirror_mode": {
    "name": "ipython",
    "version": 3
   },
   "pygments_lexer": "ipython3",
   "nbconvert_exporter": "python",
   "file_extension": ".py"
  },
  "kernelspec": {
   "name": "python3",
   "display_name": "Python 3.9.5 64-bit (windows store)"
  },
  "interpreter": {
   "hash": "fcea7bec55ff6d7f3b1107f41f074eaa5711bec3d5478eb754b653bcca62ae21"
  }
 },
 "nbformat": 4,
 "nbformat_minor": 2
}