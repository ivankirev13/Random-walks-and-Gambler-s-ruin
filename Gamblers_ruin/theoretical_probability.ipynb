{
 "cells": [
  {
   "cell_type": "markdown",
   "source": [
    "# Gambler's ruin problem\r\n",
    "\r\n",
    "## Comparing simulation results with theoretical probability\r\n",
    "\r\n",
    "The problem is as such: Consider a gambler with an initial fortune $i$ and at each turn the gambler has\r\n",
    "\r\n",
    "- probability $p$ of winning $1 \\$ $\r\n",
    "- probability $q = 1-p$ of losing $1 \\$ $\r\n",
    "\r\n",
    "What is the probability that if the gambler starts with $i$ $ \\$ $, he reaches $N$ before reaching $0$?\r\n"
   ],
   "metadata": {}
  },
  {
   "cell_type": "markdown",
   "source": [
    "# Simulation of the game\r\n"
   ],
   "metadata": {}
  },
  {
   "cell_type": "code",
   "execution_count": 41,
   "source": [
    "import numpy as np\r\n",
    "import matplotlib.pyplot as plt\r\n",
    "\r\n",
    "\r\n",
    "def gamblers_ruin_outcome(probability,\r\n",
    "                          win_prize=1,\r\n",
    "                          loss=1,\r\n",
    "                          initial_money=15,\r\n",
    "                          fortune=30,\r\n",
    "                          ruin=0):\r\n",
    "    \"\"\"Return 1 if the gambler succeeds and -1 if he is ruined.\"\"\"\r\n",
    "    money = [initial_money]\r\n",
    "    while money[-1] < fortune and money[-1] > ruin:\r\n",
    "        if np.random.random() <= probability:\r\n",
    "            money.append(money[-1] + win_prize)\r\n",
    "        else:\r\n",
    "            money.append(money[-1] - loss)\r\n",
    "    if money[-1] == fortune:\r\n",
    "        return 1\r\n",
    "    elif money[-1] == ruin:\r\n",
    "        return 0\r\n",
    "\r\n",
    "\r\n",
    "def simulation_probability(p, i, N, number_of_simulations=1000):\r\n",
    "    \"\"\"Return the proportion of successful outcomes from a simulation\"\"\"\r\n",
    "    number_of_successes = 0\r\n",
    "    number_of_ruins = 0\r\n",
    "    for t in range(number_of_simulations):\r\n",
    "        outcome = gamblers_ruin_outcome(p, initial_money=i, fortune=N)\r\n",
    "        if outcome == 1:\r\n",
    "            number_of_successes += 1\r\n",
    "        elif outcome == 0:\r\n",
    "            number_of_ruins += 1\r\n",
    "        else: \r\n",
    "            print(\"WHAT THE FUCK\")\r\n",
    "    return number_of_successes/number_of_simulations\r\n"
   ],
   "outputs": [],
   "metadata": {}
  },
  {
   "cell_type": "markdown",
   "source": [
    "# Theoretical results\r\n",
    "\r\n",
    "If we denote $h_i$ to be the probability that the gambler reaches $N$ before $0$, then in theory we have that\r\n",
    "$$\r\n",
    "h_i = \\frac{1 - (q/p)^i}{1 - (q/p)^N}\r\n",
    "$$\r\n",
    "if $p$ is not equal to $0.5$ and\r\n",
    "$$\r\n",
    "h_i = \\frac{i}{N}\r\n",
    "$$\r\n",
    "if $p = 0.5$.\r\n"
   ],
   "metadata": {}
  },
  {
   "cell_type": "code",
   "execution_count": 49,
   "source": [
    "def theoretical_probability(p, i, N):\r\n",
    "    \"\"\"Return the theoretical probability of successful gameplay\"\"\"\r\n",
    "    if p ==0.5:\r\n",
    "        return i/N\r\n",
    "    else:\r\n",
    "        return (1-((1-p)/p)**i)/(1-((1-p)/p)**N)\r\n"
   ],
   "outputs": [],
   "metadata": {}
  },
  {
   "cell_type": "markdown",
   "source": [
    "# Compare theoretical results with simulation\r\n"
   ],
   "metadata": {}
  },
  {
   "cell_type": "code",
   "execution_count": 62,
   "source": [
    "# create a linspace with different probabilities\r\n",
    "probabilities = np.linspace(0.1, 1, 100)\r\n",
    "\r\n",
    "fig, (ax1, ax2) = plt.subplots(1,2,figsize=(20,7.5))\r\n",
    "# plot theoretical probabilities of winning \r\n",
    "for p in probabilities:\r\n",
    "    ax1.scatter(p, theoretical_probability(p, i = 10, N = 20), color = \"C0\")\r\n",
    "ax1.title.set_text(\"Theoretical probability of gaining fortune for different p\")\r\n",
    "\r\n",
    "# plot simulation proportion of gaining fortune for different p\r\n",
    "for p in probabilities:\r\n",
    "    ax2.scatter(p, simulation_probability(p, i=10, N=20, number_of_simulations=1000), color=\"C1\")\r\n",
    "ax2.title.set_text(\"Simulated probability of gaining fortune for different p\")\r\n",
    "plt.show()\r\n"
   ],
   "outputs": [],
   "metadata": {}
  },
  {
   "cell_type": "code",
   "execution_count": null,
   "source": [],
   "outputs": [],
   "metadata": {}
  }
 ],
 "metadata": {
  "orig_nbformat": 4,
  "language_info": {
   "name": "python",
   "version": "3.9.5",
   "mimetype": "text/x-python",
   "codemirror_mode": {
    "name": "ipython",
    "version": 3
   },
   "pygments_lexer": "ipython3",
   "nbconvert_exporter": "python",
   "file_extension": ".py"
  },
  "kernelspec": {
   "name": "python3",
   "display_name": "Python 3.9.5 64-bit (windows store)"
  },
  "interpreter": {
   "hash": "fcea7bec55ff6d7f3b1107f41f074eaa5711bec3d5478eb754b653bcca62ae21"
  }
 },
 "nbformat": 4,
 "nbformat_minor": 2
}